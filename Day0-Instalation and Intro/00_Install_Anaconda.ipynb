{
 "cells": [
  {
   "cell_type": "markdown",
   "metadata": {},
   "source": [
    "# Installing Anaconda\n",
    "\n",
    "\n",
    "For new users, I highly recommend installing Anaconda. Anaconda conveniently installs Python, the Jupyter Notebook and Spyder, and other commonly used packages for scientific computing and data science.\n",
    "\n",
    "Use the following installation steps:\n",
    "\n",
    "1. Download [Anaconda](https://www.anaconda.com/download). We recommend downloading Anaconda’s latest Python 3 version (currently Python 3.5).\n",
    "\n",
    "2. Install the version of Anaconda which you downloaded, following the instructions on the download page."
   ]
  },
  {
   "cell_type": "markdown",
   "metadata": {},
   "source": [
    "---"
   ]
  },
  {
   "cell_type": "markdown",
   "metadata": {},
   "source": [
    "# Open Jupyter Notebook Lectures\n",
    "\n",
    "\n",
    "1. Go to https://github.com/jbduarte/intro-to-prog and download the lectures into your local directory.\n",
    "2. Open a terminal and type `jupyter notebook`. This should open your web browser with your local directory.\n",
    "3. Now navigate in the jupyter directory to the lectures notebooks you have downloaded in step 1.\n",
    "4. Open the desired notebook."
   ]
  }
 ],
 "metadata": {
  "kernelspec": {
   "display_name": "Python 3",
   "language": "python",
   "name": "python3"
  },
  "language_info": {
   "codemirror_mode": {
    "name": "ipython",
    "version": 3
   },
   "file_extension": ".py",
   "mimetype": "text/x-python",
   "name": "python",
   "nbconvert_exporter": "python",
   "pygments_lexer": "ipython3",
   "version": "3.6.5"
  }
 },
 "nbformat": 4,
 "nbformat_minor": 2
}
