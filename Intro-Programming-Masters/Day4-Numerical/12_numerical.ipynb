{
 "cells": [
  {
   "cell_type": "markdown",
   "metadata": {},
   "source": [
    "# Numerical Computations in Python"
   ]
  },
  {
   "cell_type": "markdown",
   "metadata": {},
   "source": [
    "Here are the packages that are regularly used by Python users in order to perform numerical computations:\n",
    "\n",
    "- Numpy\n",
    "\n",
    "    - It is compiled on C++ and Fortran. Hence, it allows for fast vectorized computations. In some sense, it achieves the efficiency and speed of Matlab.\n",
    "    \n",
    "\n",
    "- Scipy\n",
    "\n",
    "    - Scipy contains modules for linear algebra, optimization, integration, and statistics.\n",
    "    - The main functionality of Scipy library is built upon Numpy, and its arrays thus make substantial use of NumPy (efficient code).\n",
    "    - Great documentation.\n",
    "    \n",
    "- Sympy\n",
    "    \n",
    "    - SymPy is a Python library for symbolic computation.\n",
    "    - SymPy includes features ranging from basic symbolic arithmetic to calculus, algebra, discrete mathematics and quantum physics. It is capable of formatting the result of the computations as LaTeX code.\n",
    "    - Similar to Simulink in Matlab."
   ]
  },
  {
   "cell_type": "markdown",
   "metadata": {},
   "source": [
    "### Why do we use numerical methods in Economics?\n",
    "\n",
    "\n",
    "Suppose that the demand for a good is given by:\n",
    "\n",
    "\\begin{equation}Q(p) = 0.5p^{-0.5}+ 0.3 p^{-0.2} \\quad \\quad (1)\\end{equation}\n",
    "\n",
    "For a given demanded quantity of $Q=1$, what is the price $p$ that clears the market?\n",
    "\n",
    "Such a simple question does not have a closed form solution.\n",
    "\n",
    "We need **numerical methods** in order to provide an answer. "
   ]
  },
  {
   "cell_type": "markdown",
   "metadata": {},
   "source": [
    "### Exercise 1\n",
    "\n",
    "- Define equation (1) as a function in Python, plot it (using the domain [0.05, 5] and evaluate it at p = 0.5. Invert the function and find what approxemately is $p$ when $Q=1$?"
   ]
  },
  {
   "cell_type": "markdown",
   "metadata": {},
   "source": [
    "## Root Finding Algorithms"
   ]
  },
  {
   "cell_type": "markdown",
   "metadata": {},
   "source": [
    "We can be more precise in the way we find the solution to a problem like the one stated in Exercise 1. There are algorithms that work well under some regularity conditions. The best algorithms are the ones supported by a math theorem.\n",
    "\n",
    "An important application of The Intermediate Value Theorem is often called the Existence of Roots Theorem. Under certain conditions we can guarantee the existence of a root.\n",
    "\n",
    "> **Theorem**:\n",
    "    > *Let $f$ be a real valued function, defined and continuous on a bounded closed interval $[a, b]$ of the real line. Assume further that $f (a)f (b) < 0$. Then, there exists at least a $ρ$ in $[a,b]$, such that $f(ρ) = 0$*\n",
    "    \n",
    "Notice how the theorem doesn’t say anything about uniqueness. A sufficient condition for the solution to be unique is to further assume that the function is strictly monotonous in the interval $[a, b]$."
   ]
  },
  {
   "cell_type": "markdown",
   "metadata": {},
   "source": [
    "### Bisection Algorithm"
   ]
  },
  {
   "cell_type": "markdown",
   "metadata": {},
   "source": [
    " The bisection algorithm works as follows:\n",
    " \n",
    "1. Start with the interval $[a_1,b_1]$\n",
    " \n",
    "2. Compute $F(\\frac{a_1+b_1}{2})$\n",
    "     \n",
    "3. If the sign of $F(\\frac{a_1+b_1}{2})$ is the same as of $F(a_1)$, the root must be on the right of $F(\\frac{a_1+b_1}{2})$ and now set $a_2= \\frac{a_1+b_1}{2}$. If instead the sign of $F(\\frac{a_1+b_1}{2})$ is the same as of $F(b_1)$, the root must be on the left of $F(\\frac{a_1+b_1}{2})$ and now set instead $b_2 = \\frac{a_1+b_1}{2}$\n",
    "\n",
    "4. Go back to step 2 and repeat to arbitrary precision"
   ]
  },
  {
   "cell_type": "markdown",
   "metadata": {},
   "source": [
    "<img src=\"./images/bm.png\">"
   ]
  },
  {
   "cell_type": "code",
   "execution_count": null,
   "metadata": {},
   "outputs": [],
   "source": []
  },
  {
   "cell_type": "markdown",
   "metadata": {},
   "source": [
    "### Exercise 2\n",
    "\n",
    "- Define the bisection algorithm in Python. Then use it to find the price $p$ that clears the demand where $F(p)= 1- 0.5p^{-0.5}-0.3p^{-0.2}$ with tolerance $10^{-15}$."
   ]
  },
  {
   "cell_type": "markdown",
   "metadata": {},
   "source": [
    "---"
   ]
  },
  {
   "cell_type": "markdown",
   "metadata": {},
   "source": [
    "### Fixed Point Algorithm"
   ]
  },
  {
   "cell_type": "markdown",
   "metadata": {},
   "source": [
    "The idea behind fixed point iteration as an algorithm to find the solution to $f (x) = 0$ is to rewrite it as a fixed point problem:\n",
    "\n",
    "$$ f(x) = 0 \\iff x = x-f(x) \\iff x = g(x), \\quad g(x) = x - f(x) $$\n",
    "\n",
    "\n",
    "> **Theorem**:\n",
    "    > *Let $g \\in C^1[a,b]:g(x)\\in [a,b], \\forall x \\in [a,b]$. Furthermore, suppose $|f'(x)|\\in [0,1)$, $\\forall x \\in [a,b]$. Then, for any given $x_0\\in [a,b]$, the sequence $x^{k+1}= f(x^k)$ converges to the unique fixed point in $[a,b]$.\n",
    "    \n",
    "    \n",
    "The algorithm involves starting with a guess $x_0$ and then iterating using the following rule:\n",
    "\n",
    "$$x^{k+1} = g(x^k)  \\quad \\quad (2)$$"
   ]
  },
  {
   "cell_type": "markdown",
   "metadata": {},
   "source": [
    "### Exercise 3\n",
    "\n",
    "- Define the fixed point algorithm. Then use it to find the price $p$ that clears demand $Q=1$. Use tolerance $10^{-15}$ use maximum number of iteratrions 1000 and initial guess $x_0=1$. Plot $g(p)$ and the 45 degree line."
   ]
  },
  {
   "cell_type": "markdown",
   "metadata": {},
   "source": [
    "---"
   ]
  },
  {
   "cell_type": "markdown",
   "metadata": {},
   "source": [
    "### Newton-Rhapson Algorithm"
   ]
  },
  {
   "cell_type": "markdown",
   "metadata": {},
   "source": [
    "The Newton-Rhapson method to find the root of an equation (or a system of equations) is one of the most used in computational economics. The best way to describe the algorithm is to analyze the picture below:"
   ]
  },
  {
   "cell_type": "markdown",
   "metadata": {},
   "source": [
    "<img src=\"./images/npic.png\">"
   ]
  },
  {
   "cell_type": "markdown",
   "metadata": {},
   "source": [
    "We start with a guess $x_0$. We compute the equation of the line that is tangent to f at x0 and find the point where it intersects the x-axis. That will be our next point in the iteration:\n",
    "\n",
    "$$y = a + bx \\quad \\quad (3) $$\n",
    "\n",
    "\n",
    "Note that $b = f′(x_1)$. Substituting in (3) and solving w.r.t. $a$ yields:\n",
    "\n",
    "$$a = f(x_1) − f′(x_1)x_1 \\quad \\quad (4) $$\n",
    "\n",
    "We have expressions for $a$ and $b$ hence we have the equation of the tangent:\n",
    "\n",
    "$$y = f(x_1) − f′(x_1)x_1 + f′(x_1)x \\quad \\quad (5) $$\n",
    "\n",
    "\n",
    "The next point in the iteration, i.e., $x_1$ , has coordinates $(x_2 , 0)$. All we need is to\n",
    "substitute this in (5) and solve w.r.t. $x_2$:\n",
    "\n",
    "$$x_2 =x_1 − \\frac{f(x1)}{f′(x1)}$$\n",
    "\n",
    "\n"
   ]
  },
  {
   "cell_type": "markdown",
   "metadata": {},
   "source": [
    "It becomes clear that it is fundamental that the function is differentiable in the search space:\n",
    "\n",
    "> **Theorem**:\n",
    "    > *Let $f \\in C^1[a,b]:f(x)' \\neq 0, \\forall x \\in [a,b]$. Suppose that $\\exists x_n:f(x_n)=0$. Then, for any $x_k \\in [a,b]$, the sequence $x^{k+1}= x^k - \\frac{f(x^k)}{f'(x^k)}$ converges to $x_n$.\n",
    "    \n",
    "    \n",
    "The algorithm is similar to the fixed point algorithm. Start with an initial guess $x_0$ and then iterate with $g(x^k)$ now taking the particular form $g(x^k) = x^k - \\frac{f(x^k)}{f'(x^k)}$"
   ]
  },
  {
   "cell_type": "markdown",
   "metadata": {},
   "source": [
    "### Exercise 4\n",
    "\n",
    "- First, define the derivative approximation function. This function takes three arguments: 1) a function, 2) $x_0$ and 3) precision $h= x-x_0$. The derivative approximation function is given by: $f'(x_0)= \\frac{f(x_0+h)-f(x_0)}{h}$\n",
    "\n",
    "- Define the Newton-Rhapson algorithm. Then use it to find the price $p$ that clears demand $Q=1$. Use tolerance $10^{-15}$ use maximum number of iteratrions 1000 and initial guess $x_0=1$. "
   ]
  },
  {
   "cell_type": "markdown",
   "metadata": {},
   "source": [
    "---"
   ]
  },
  {
   "cell_type": "markdown",
   "metadata": {},
   "source": [
    "## Optimization\n",
    "\n",
    "- Focus on methods designed to find extreme values of real valued functions with respect to a finite set of variables.\n",
    "\n",
    "- Arguably the most common class of problems in economics.\n",
    "\n",
    "- Apart from the grid search method, all other methods are designed to find local extreme values.\n",
    "\n",
    "\n",
    "In economics, we often want to maximize continuous concave functions over compact and convex domains, which ensures existence and uniqueness.\n",
    "\n",
    "In these cases, we are sure that an optimum found is indeed global.\n",
    "\n",
    "One should be well aware of the structure of the problem, to make sure that each method is appropriate and that adequate conclusions can be drawn from the results."
   ]
  },
  {
   "cell_type": "markdown",
   "metadata": {},
   "source": [
    "### Grid Search\n",
    "\n",
    "1. Discretize the domain with a grid\n",
    "\n",
    "2. Evaluate the function at each grid point\n",
    "\n",
    "3. Check which grid point yielded the maximum"
   ]
  },
  {
   "cell_type": "markdown",
   "metadata": {},
   "source": [
    "### Exercise 5\n",
    "\n",
    "- Assume that the tax revenue for a government is given by $R(t)= -t^2+t$, where $t$ is the taxe rate. Use the grid search method and find the tax rate on the $[0,1]$ domain that maximizes the tax revenue up to $10^-4$. "
   ]
  },
  {
   "cell_type": "markdown",
   "metadata": {},
   "source": [
    "---"
   ]
  },
  {
   "cell_type": "markdown",
   "metadata": {},
   "source": [
    "### Unconstrained Optimization"
   ]
  },
  {
   "cell_type": "markdown",
   "metadata": {},
   "source": [
    "Lets start with a simple benchmark example.\n",
    "\n",
    "Assume an agent lives for two periods, faces the budget constraints and derives utility from consumption as specified below:\n",
    "\n",
    "\n",
    "$$ \\max_{c_1, c_2, s} U(c_1, c_2) = \\frac{c_1^{1-\\mu}}{1-\\mu}+ \\beta \\frac{c_2^{1-\\gamma}}{1-\\gamma}$$\n",
    "\n",
    "s.t.\n",
    "\n",
    "$$c_1 = y-s $$\n",
    "\n",
    "$$c_2 = y+Rs$$"
   ]
  },
  {
   "cell_type": "markdown",
   "metadata": {},
   "source": [
    "First lets transform this problem to an unconstrained one by substituting the constrains into the utility function:\n",
    "\n",
    "$$ \\max_{s} \\frac{(y-s)^{1-\\mu}}{1-\\mu}+ \\beta \\frac{(y+Rs)^{1-\\gamma}}{1-\\gamma} $$"
   ]
  },
  {
   "cell_type": "markdown",
   "metadata": {},
   "source": [
    "Assum the following parameters: \n",
    "\n",
    "$\\mu = 1.1$, \n",
    "$\\beta = 0.95$, \n",
    "$\\gamma = 1.2$, \n",
    "$R = 1.05$, \n",
    "$y = 10$"
   ]
  },
  {
   "cell_type": "markdown",
   "metadata": {},
   "source": [
    "### Exercise 6\n",
    "\n",
    "- Import scipy.optimize as opt and use the minimize method to find the optimal savings allocation. In addition, report the optimal consumption in both periods. Use initial guess $x_0=0.1$. (Hint: read the minimize documentation using help to check the arguments of this method)"
   ]
  },
  {
   "cell_type": "code",
   "execution_count": 30,
   "metadata": {},
   "outputs": [],
   "source": [
    "#Ex 6 answers"
   ]
  },
  {
   "cell_type": "markdown",
   "metadata": {},
   "source": [
    "---"
   ]
  },
  {
   "cell_type": "markdown",
   "metadata": {},
   "source": [
    "### Constrained Optimization"
   ]
  },
  {
   "cell_type": "markdown",
   "metadata": {},
   "source": [
    "Consolidate the budget constraints by substituting away s and combine the first order conditions w.r.t. $c_1, c_2$ to get:\n",
    "\n",
    "$$c_1^{-\\mu}-\\beta R c_2^{-\\gamma} =0$$\n",
    "\n",
    "$$c_1 + \\frac{c_2}{R}-y -\\frac{y}{R} =0  $$\n",
    "\n"
   ]
  },
  {
   "cell_type": "markdown",
   "metadata": {},
   "source": [
    "This is a system of non-linear equations and can be solved by some of the methods introduced before. We will use Pythons’s implementation of the Newton-Rhapson algorithm, the function fsolve inside `scipy.optimize`."
   ]
  },
  {
   "cell_type": "markdown",
   "metadata": {},
   "source": [
    "### Exercise 7\n",
    "\n",
    "- Build a function that returns an array with two elements, i.e. the residuals of the first order conditions for given $c_1, c_2$.\n",
    "\n",
    "- Use the fsolve to get the optimal allocations, i.e. the ones that make the first order conditions zero."
   ]
  },
  {
   "cell_type": "code",
   "execution_count": 29,
   "metadata": {},
   "outputs": [],
   "source": [
    "#Ex 6 answers"
   ]
  },
  {
   "cell_type": "markdown",
   "metadata": {},
   "source": [
    "---"
   ]
  },
  {
   "cell_type": "markdown",
   "metadata": {},
   "source": [
    "[- More info at Scipy Optimize Documentation](https://docs.scipy.org/doc/scipy-0.14.0/reference/tutorial/optimize.html)"
   ]
  }
 ],
 "metadata": {
  "kernelspec": {
   "display_name": "Python 3",
   "language": "python",
   "name": "python3"
  },
  "language_info": {
   "codemirror_mode": {
    "name": "ipython",
    "version": 3
   },
   "file_extension": ".py",
   "mimetype": "text/x-python",
   "name": "python",
   "nbconvert_exporter": "python",
   "pygments_lexer": "ipython3",
   "version": "3.6.5"
  }
 },
 "nbformat": 4,
 "nbformat_minor": 2
}
