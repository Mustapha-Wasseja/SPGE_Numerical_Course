{
 "cells": [
  {
   "cell_type": "markdown",
   "metadata": {},
   "source": [
    "# Exercise 1 - Bisection Algorithm"
   ]
  },
  {
   "cell_type": "code",
   "execution_count": 1,
   "metadata": {},
   "outputs": [],
   "source": [
    "import numpy as np\n",
    "\n",
    "def bisect(f,a,b,tol):\n",
    "    \"\"\"\n",
    "    this functions uses the bisection algorithm to find a root of f in the\n",
    "    [a,b] interval up to tol precision. it outputs the value of x such that\n",
    "    f(x)<0+-tol\n",
    "    \"\"\"\n",
    "\n",
    "    while abs(b-a) > tol:\n",
    "        if np.sign(f((a+b)/2)) == np.sign(f(a)):\n",
    "            a=(a+b)/2\n",
    "        elif np.sign(f((a+b)/2)) == np.sign(f(b)):\n",
    "            b=(a+b)/2\n",
    "\n",
    "    return((a+b)/2)"
   ]
  },
  {
   "cell_type": "code",
   "execution_count": 6,
   "metadata": {},
   "outputs": [
    {
     "data": {
      "text/plain": [
       "0.4999999999999996"
      ]
     },
     "execution_count": 6,
     "metadata": {},
     "output_type": "execute_result"
    }
   ],
   "source": [
    "# Lets apply it now to our specific excess demand function\n",
    "\n",
    "def f(x):\n",
    "    f= 1-0.5*x**-0.5-0.3*x**-0.2\n",
    "    return f\n",
    "\n",
    "bisect(f, 0.05,0.5,10**-15)"
   ]
  },
  {
   "cell_type": "code",
   "execution_count": null,
   "metadata": {
    "collapsed": true
   },
   "outputs": [],
   "source": []
  }
 ],
 "metadata": {
  "kernelspec": {
   "display_name": "Python 3",
   "language": "python",
   "name": "python3"
  },
  "language_info": {
   "codemirror_mode": {
    "name": "ipython",
    "version": 3
   },
   "file_extension": ".py",
   "mimetype": "text/x-python",
   "name": "python",
   "nbconvert_exporter": "python",
   "pygments_lexer": "ipython3",
   "version": "3.6.5"
  }
 },
 "nbformat": 4,
 "nbformat_minor": 2
}
