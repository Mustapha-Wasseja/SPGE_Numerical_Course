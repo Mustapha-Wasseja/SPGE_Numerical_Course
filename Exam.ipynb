{
 "cells": [
  {
   "cell_type": "markdown",
   "metadata": {},
   "source": [
    "# Final Exam - Introduction to Programming "
   ]
  },
  {
   "cell_type": "markdown",
   "metadata": {},
   "source": [
    "## Fall 2018     - Joao B. Duarte"
   ]
  },
  {
   "cell_type": "markdown",
   "metadata": {},
   "source": [
    "This is exam is individual. Please explain and document your answers and submit your edited notebook with all the answers to the following dropbox link: https://www.dropbox.com/request/i2UtWJVQlps9if8p9ZOv"
   ]
  },
  {
   "cell_type": "markdown",
   "metadata": {},
   "source": [
    "### 1. Lists and Loops (20 pts)\n",
    "\n",
    "#### a) Create a list with the following names: APPLE, BERKSHIRE,  FACEBOOK, JPMORGAN, FORD, KOHLS, MICROSOFT. (3 pts)\n",
    "\n",
    "#### b) Loop over the created list in order to print 'this is my favorite STOCK', where STOCK is an element from the list. (3 pts)\n",
    "\n",
    "#### c) Append PIMCO to the list. (3 pts)\n",
    "\n",
    "#### d) Create a second list with the names which have an even index and a third list  with the names which have an odd index. (5 pts)\n",
    "\n",
    "#### e) Do a while loop in order to search the initial list of names and have it stop when it finds and prints MICROSOFT. (hint: you need a while loop and an if condition inside the while loop)  (6 pts)"
   ]
  },
  {
   "cell_type": "markdown",
   "metadata": {},
   "source": [
    "---"
   ]
  },
  {
   "cell_type": "markdown",
   "metadata": {},
   "source": [
    "### 2. Classes and Functions (25 pts)\n",
    "\n",
    "#### a) Create a class called Stock and have it start with 3 atributes: an open, a close and a volume attribute. Note that all of these atributes are lists! (5 pts)\n",
    "\n",
    "#### b) Create method for this class called return. Given close prices, the function should return a list with the percentage return between adjacent close prices in the close list attribute. (10 pts)\n",
    "\n",
    "${return}_{i+1} = \\frac{{close}_{i+1}-{close}_{i}}{{close}_{i}}$\n",
    "\n",
    "#### c) Make the method save an attribute called return onto the Stock object. (5 pts)\n",
    "\n",
    "#### d) Create a method that computes the difference between the return of the object Stock and another object Stock.  (5 pts)\n",
    "\n"
   ]
  },
  {
   "cell_type": "markdown",
   "metadata": {},
   "source": [
    "---"
   ]
  },
  {
   "cell_type": "markdown",
   "metadata": {},
   "source": [
    "### 3. Portfolio Optimization (35 pts)\n",
    "\n",
    "#### a) Import the dataset 'data_exam.csv' using the pandas module. This dataset includes the closing price of three stocks: Amazon, Apple and Ford. Describe the dataset. (5 pts)\n",
    "\n",
    "#### b) Build an array with the returns for each of these stocks. Find the mean daily returns for each stock and the variance-covariance of the returns using the .cov() method on returns. Create a portfolio that invests 40% (0.4), 50% (0.5), 10% (0.1) of the total investment in Amazon, Apple and Ford, respectively. Find the return and the standard deviation of return of this porfolio. (10 pts)\n",
    "\n",
    "The portfolio return is given by:\n",
    "\n",
    "```Python\n",
    "port_return = np.sum(mean_daily_returns * weights) * N\n",
    "```\n",
    "\n",
    "And the standard deviation is given by:\n",
    "\n",
    "```Python\n",
    "port_std = np.sqrt(np.dot(weights.T,np.dot(cov_matrix, weights))) * np.sqrt(N)\n",
    "```\n",
    "\n",
    "where $N$ is the total number of days.\n",
    "\n",
    "#### c) Simulate 1000 protfolio returns by drawing random weights from random.rand. Weights must sum up to 1, hence draw two weights randomly and define the third weight as $w_3 = 1-w_1-w_2$. Do a scatter plot of the simulated portfolio returns on the y-axis with the simulted portfolio returns standard deviation on the x-axis. (10 pts)\n",
    "\n",
    "#### d) Suppose you want to maximize a portfolio given the following objective function: $\\max_w R - std^2$ where $R$ is the portfolio return and $std$ is the portfolio return standard deviation and $w$ are the stock weights. Hence, this function reflects the trade-off between return and risk. Define the objective function. Then, minimize the negative of that function in order to find the optimal weights. Inside the objective function make sure that you define $w[2]= 1 - w[0]-w[1]$. When you get the final solution, it wont sum up to one. Hence, normalize it in order to find the optimal fraction of investment in each stock. (10 pts)\n",
    "\n",
    "\n",
    "\n",
    "\n"
   ]
  },
  {
   "cell_type": "markdown",
   "metadata": {},
   "source": [
    "---"
   ]
  },
  {
   "cell_type": "markdown",
   "metadata": {},
   "source": [
    "### 4. Machine Learning (20 pts)\n",
    "\n",
    "#### a) Use the data on stocks and make a new data frame for each stock with two variables: the closing price at date $t$ and the closing price at date $t+1$. Note that you will lose the first observation of the data. In the end, you should have three data sets with current price and future price as columns. (5 pts)\n",
    "\n",
    "####  b)  Next, define the current closing price as X and the future price as the target y.  Split the sample between train and test using the train_test_split function. Use 20% of the data to test. Do this for all three data frames. (5 pts)\n",
    "\n",
    "#### c) fit a regression with intercept in order to train a regression to make predictions of future price given current price.  Print the coefficients and print the average residuals and the $R^2$ for each stock. What is the stock with highest $R^2$? (5 pts)\n",
    "\n",
    "#### d) Use the test sample to make predictions on all three stocks. Which one performs best? (5 pts)\n",
    "\n",
    "\n",
    "\n",
    "\n"
   ]
  }
 ],
 "metadata": {
  "kernelspec": {
   "display_name": "Python 3",
   "language": "python",
   "name": "python3"
  },
  "language_info": {
   "codemirror_mode": {
    "name": "ipython",
    "version": 3
   },
   "file_extension": ".py",
   "mimetype": "text/x-python",
   "name": "python",
   "nbconvert_exporter": "python",
   "pygments_lexer": "ipython3",
   "version": "3.6.5"
  }
 },
 "nbformat": 4,
 "nbformat_minor": 2
}
