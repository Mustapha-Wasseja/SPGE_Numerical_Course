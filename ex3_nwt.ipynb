{
 "cells": [
  {
   "cell_type": "markdown",
   "metadata": {},
   "source": [
    "# Exercise 3 - Newton-Rhapson Algorithm"
   ]
  },
  {
   "cell_type": "code",
   "execution_count": 2,
   "metadata": {},
   "outputs": [],
   "source": [
    "import numpy as np # Importing numpy for evaluating if x0 is nan \n",
    "\n",
    "def deriv(f,x0,h):\n",
    "    \"\"\"\n",
    "    This function takes as arguments the C2 function f, a point x0 in the \n",
    "    domain of f and a perturbation scalar h\n",
    "    the output d is the numerical approximation of the derivative of f at the\n",
    "    % point x0\n",
    "    \"\"\"\n",
    "    return (f(x0+h)-f(x0-h))/(2.0*h);\n",
    "\n",
    "def nwt(f,x0,h):\n",
    "    \"\"\" \n",
    "    This function takes as inputs a function f, scalar guess for the root of\n",
    "    f, x0 and scalar perturbation h to compute the derivative.\n",
    "    The output is the numerical approximation to the root of f, following the\n",
    "    Newton-Rhapson method. \n",
    "    \"\"\"\n",
    "\n",
    "    i   = 1\n",
    "\n",
    "    while (i <= 999 and abs(f(x0))>h):\n",
    "        x0 = x0 - f(x0)/deriv(f,x0,h)\n",
    "        i += 1\n",
    "        \n",
    "    # Conditions for first logical statement\n",
    "    f1 = f(x0) > h\n",
    "    f2 = np.isnan(x0)\n",
    "    \n",
    "    if (f1 or f2): \n",
    "        print('Root not found. Maximum number of iterations reached!')\n",
    "    elif f(x0)<=h:\n",
    "        root = x0\n",
    "        print('Root found in ' + str(i) + ' iterations')\n",
    "    return(root)\n",
    "\n",
    "\n",
    "\n"
   ]
  },
  {
   "cell_type": "code",
   "execution_count": 9,
   "metadata": {},
   "outputs": [
    {
     "name": "stdout",
     "output_type": "stream",
     "text": [
      "Root found in 21 iterations\n"
     ]
    },
    {
     "data": {
      "text/plain": [
       "0.5670944159657582"
      ]
     },
     "execution_count": 9,
     "metadata": {},
     "output_type": "execute_result"
    }
   ],
   "source": [
    "nwt(lambda x: 1-0.5*x**-0.5-0.3*x**-0.2 ,0.00001,10**-15)"
   ]
  },
  {
   "cell_type": "code",
   "execution_count": null,
   "metadata": {
    "collapsed": true
   },
   "outputs": [],
   "source": []
  },
  {
   "cell_type": "code",
   "execution_count": null,
   "metadata": {
    "collapsed": true
   },
   "outputs": [],
   "source": []
  }
 ],
 "metadata": {
  "kernelspec": {
   "display_name": "Python 3",
   "language": "python",
   "name": "python3"
  },
  "language_info": {
   "codemirror_mode": {
    "name": "ipython",
    "version": 3
   },
   "file_extension": ".py",
   "mimetype": "text/x-python",
   "name": "python",
   "nbconvert_exporter": "python",
   "pygments_lexer": "ipython3",
   "version": "3.6.4"
  }
 },
 "nbformat": 4,
 "nbformat_minor": 2
}
